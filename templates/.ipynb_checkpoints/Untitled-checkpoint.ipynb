{
 "cells": [
  {
   "cell_type": "code",
   "execution_count": 6,
   "id": "4cf39059-784c-4b4d-ab86-29cbd88ce959",
   "metadata": {},
   "outputs": [
    {
     "name": "stdout",
     "output_type": "stream",
     "text": [
      "Requirement already satisfied: Flask in c:\\users\\usuario\\anaconda3\\lib\\site-packages (3.0.3)\n",
      "Requirement already satisfied: gspread in c:\\users\\usuario\\anaconda3\\lib\\site-packages (6.2.1)\n",
      "Requirement already satisfied: oauth2client in c:\\users\\usuario\\anaconda3\\lib\\site-packages (4.1.3)\n",
      "Requirement already satisfied: Werkzeug>=3.0.0 in c:\\users\\usuario\\anaconda3\\lib\\site-packages (from Flask) (3.0.3)\n",
      "Requirement already satisfied: Jinja2>=3.1.2 in c:\\users\\usuario\\anaconda3\\lib\\site-packages (from Flask) (3.1.4)\n",
      "Requirement already satisfied: itsdangerous>=2.1.2 in c:\\users\\usuario\\anaconda3\\lib\\site-packages (from Flask) (2.2.0)\n",
      "Requirement already satisfied: click>=8.1.3 in c:\\users\\usuario\\anaconda3\\lib\\site-packages (from Flask) (8.1.7)\n",
      "Requirement already satisfied: blinker>=1.6.2 in c:\\users\\usuario\\anaconda3\\lib\\site-packages (from Flask) (1.6.2)\n",
      "Requirement already satisfied: google-auth>=1.12.0 in c:\\users\\usuario\\anaconda3\\lib\\site-packages (from gspread) (2.41.1)\n",
      "Requirement already satisfied: google-auth-oauthlib>=0.4.1 in c:\\users\\usuario\\anaconda3\\lib\\site-packages (from gspread) (1.2.2)\n",
      "Requirement already satisfied: httplib2>=0.9.1 in c:\\users\\usuario\\anaconda3\\lib\\site-packages (from oauth2client) (0.22.0)\n",
      "Requirement already satisfied: pyasn1>=0.1.7 in c:\\users\\usuario\\anaconda3\\lib\\site-packages (from oauth2client) (0.4.8)\n",
      "Requirement already satisfied: pyasn1-modules>=0.0.5 in c:\\users\\usuario\\anaconda3\\lib\\site-packages (from oauth2client) (0.2.8)\n",
      "Requirement already satisfied: rsa>=3.1.4 in c:\\users\\usuario\\anaconda3\\lib\\site-packages (from oauth2client) (4.9)\n",
      "Requirement already satisfied: six>=1.6.1 in c:\\users\\usuario\\anaconda3\\lib\\site-packages (from oauth2client) (1.16.0)\n",
      "Requirement already satisfied: colorama in c:\\users\\usuario\\anaconda3\\lib\\site-packages (from click>=8.1.3->Flask) (0.4.6)\n",
      "Requirement already satisfied: cachetools<7.0,>=2.0.0 in c:\\users\\usuario\\anaconda3\\lib\\site-packages (from google-auth>=1.12.0->gspread) (5.3.3)\n",
      "Requirement already satisfied: requests-oauthlib>=0.7.0 in c:\\users\\usuario\\anaconda3\\lib\\site-packages (from google-auth-oauthlib>=0.4.1->gspread) (2.0.0)\n",
      "Requirement already satisfied: pyparsing!=3.0.0,!=3.0.1,!=3.0.2,!=3.0.3,<4,>=2.4.2 in c:\\users\\usuario\\anaconda3\\lib\\site-packages (from httplib2>=0.9.1->oauth2client) (3.1.2)\n",
      "Requirement already satisfied: MarkupSafe>=2.0 in c:\\users\\usuario\\anaconda3\\lib\\site-packages (from Jinja2>=3.1.2->Flask) (2.1.3)\n",
      "Requirement already satisfied: oauthlib>=3.0.0 in c:\\users\\usuario\\anaconda3\\lib\\site-packages (from requests-oauthlib>=0.7.0->google-auth-oauthlib>=0.4.1->gspread) (3.3.1)\n",
      "Requirement already satisfied: requests>=2.0.0 in c:\\users\\usuario\\anaconda3\\lib\\site-packages (from requests-oauthlib>=0.7.0->google-auth-oauthlib>=0.4.1->gspread) (2.32.3)\n",
      "Requirement already satisfied: charset-normalizer<4,>=2 in c:\\users\\usuario\\anaconda3\\lib\\site-packages (from requests>=2.0.0->requests-oauthlib>=0.7.0->google-auth-oauthlib>=0.4.1->gspread) (3.3.2)\n",
      "Requirement already satisfied: idna<4,>=2.5 in c:\\users\\usuario\\anaconda3\\lib\\site-packages (from requests>=2.0.0->requests-oauthlib>=0.7.0->google-auth-oauthlib>=0.4.1->gspread) (3.7)\n",
      "Requirement already satisfied: urllib3<3,>=1.21.1 in c:\\users\\usuario\\anaconda3\\lib\\site-packages (from requests>=2.0.0->requests-oauthlib>=0.7.0->google-auth-oauthlib>=0.4.1->gspread) (2.2.3)\n",
      "Requirement already satisfied: certifi>=2017.4.17 in c:\\users\\usuario\\anaconda3\\lib\\site-packages (from requests>=2.0.0->requests-oauthlib>=0.7.0->google-auth-oauthlib>=0.4.1->gspread) (2025.1.31)\n"
     ]
    }
   ],
   "source": [
    "!pip install Flask gspread oauth2client"
   ]
  },
  {
   "cell_type": "code",
   "execution_count": 7,
   "id": "dd3e9315-439e-47dc-920b-7e473d92fd6d",
   "metadata": {},
   "outputs": [
    {
     "name": "stdout",
     "output_type": "stream",
     "text": [
      "C:\\Users\\USUARIO\\Desktop\\mi_registro_whatsapp\n"
     ]
    }
   ],
   "source": [
    "cd C:\\Users\\USUARIO\\Desktop\\mi_registro_whatsapp"
   ]
  },
  {
   "cell_type": "code",
   "execution_count": null,
   "id": "595f057f-4c7a-4ae7-8f59-77a9bce0111e",
   "metadata": {},
   "outputs": [],
   "source": []
  },
  {
   "cell_type": "code",
   "execution_count": 13,
   "id": "701ec038-d6e1-4fd0-9aaf-d41a467cc6c6",
   "metadata": {},
   "outputs": [
    {
     "name": "stdout",
     "output_type": "stream",
     "text": [
      "✅ Conexión exitosa con Google Sheets.\n",
      " * Serving Flask app '__main__'\n",
      " * Debug mode: on\n"
     ]
    },
    {
     "name": "stderr",
     "output_type": "stream",
     "text": [
      "WARNING: This is a development server. Do not use it in a production deployment. Use a production WSGI server instead.\n",
      " * Running on http://127.0.0.1:5000\n",
      "Press CTRL+C to quit\n",
      " * Restarting with watchdog (windowsapi)\n"
     ]
    },
    {
     "ename": "SystemExit",
     "evalue": "1",
     "output_type": "error",
     "traceback": [
      "An exception has occurred, use %tb to see the full traceback.\n",
      "\u001b[1;31mSystemExit\u001b[0m\u001b[1;31m:\u001b[0m 1\n"
     ]
    }
   ],
   "source": [
    "from flask import Flask, request, redirect, render_template\n",
    "import gspread\n",
    "from oauth2client.service_account import ServiceAccountCredentials\n",
    "from datetime import datetime\n",
    "\n",
    "app = Flask(__name__)\n",
    "\n",
    "# Configuración de Google Sheets\n",
    "SCOPE = [\n",
    "    \"https://spreadsheets.google.com/feeds\",\n",
    "    \"https://www.googleapis.com/auth/drive\"\n",
    "]\n",
    "CREDS_FILE = \"creds.json\"  # tu archivo de credenciales JSON\n",
    "SPREADSHEET_ID = \"1pLwMJlZpaUTwTaXBEZJK_9dGoUecP1UJt2b3ylDpZac\"\n",
    "\n",
    "# Autenticación de Google Sheets\n",
    "creds = ServiceAccountCredentials.from_json_keyfile_name(CREDS_FILE, SCOPE)\n",
    "client = gspread.authorize(creds)\n",
    "sheet = client.open_by_key(SPREADSHEET_ID).sheet1  # hoja 1\n",
    "\n",
    "WHATSAPP_GROUP_LINK = \"https://chat.whatsapp.com/BlXfChwXszFHroaBEUDnw8\"\n",
    "\n",
    "@app.route('/')\n",
    "def index():\n",
    "    return render_template('registro.html')\n",
    "\n",
    "@app.route('/registro', methods=['POST'])\n",
    "def registro():\n",
    "    nombre = request.form.get('nombre')\n",
    "    telefono = request.form.get('telefono')\n",
    "    edad = request.form.get('edad')\n",
    "    nacimiento = request.form.get('nacimiento')\n",
    "    lider = request.form.get('lider')\n",
    "    fecha_registro = datetime.now().strftime(\"%Y-%m-%d %H:%M:%S\")\n",
    "\n",
    "    # Validar (podrías verificar que teléfono no esté repetido, etc.)\n",
    "    # Agregar la nueva fila\n",
    "    fila = [\n",
    "        nombre,\n",
    "        telefono,\n",
    "        edad,\n",
    "        nacimiento,\n",
    "        lider,\n",
    "        fecha_registro\n",
    "    ]\n",
    "    sheet.append_row(fila, value_input_option=\"USER_ENTERED\")\n",
    "\n",
    "    # Redirigir al grupo de WhatsApp\n",
    "    return redirect(WHATSAPP_GROUP_LINK)\n",
    "\n",
    "if __name__ == '__main__':\n",
    "    try:\n",
    "        # Test de conexión con Google Sheets\n",
    "        sheet.append_row([\"TEST\", \"1234567890\", \"25\", \"2000-01-01\", \"David\", datetime.now().strftime(\"%Y-%m-%d %H:%M:%S\")])\n",
    "        print(\"✅ Conexión exitosa con Google Sheets.\")\n",
    "    except Exception as e:\n",
    "        print(\"❌ Error conectando con Google Sheets:\", e)\n",
    "    \n",
    "    app.run(debug=True)\n",
    "\n"
   ]
  },
  {
   "cell_type": "code",
   "execution_count": 11,
   "id": "2b6847b6-5097-4036-a277-426f6fe37c48",
   "metadata": {},
   "outputs": [
    {
     "ename": "SyntaxError",
     "evalue": "invalid syntax (2872507774.py, line 1)",
     "output_type": "error",
     "traceback": [
      "\u001b[1;36m  Cell \u001b[1;32mIn[11], line 1\u001b[1;36m\u001b[0m\n\u001b[1;33m    cd C:\\Users\\USUARIO\\Desktop\\mi_registro_whatsapp\u001b[0m\n\u001b[1;37m       ^\u001b[0m\n\u001b[1;31mSyntaxError\u001b[0m\u001b[1;31m:\u001b[0m invalid syntax\n"
     ]
    }
   ],
   "source": [
    "cd C:\\Users\\USUARIO\\Desktop\\mi_registro_whatsapp\n",
    "python app.py"
   ]
  },
  {
   "cell_type": "code",
   "execution_count": null,
   "id": "077077fd-48d5-4035-bf55-ccc80fbe0466",
   "metadata": {},
   "outputs": [],
   "source": []
  }
 ],
 "metadata": {
  "kernelspec": {
   "display_name": "Python [conda env:base] *",
   "language": "python",
   "name": "conda-base-py"
  },
  "language_info": {
   "codemirror_mode": {
    "name": "ipython",
    "version": 3
   },
   "file_extension": ".py",
   "mimetype": "text/x-python",
   "name": "python",
   "nbconvert_exporter": "python",
   "pygments_lexer": "ipython3",
   "version": "3.12.3"
  }
 },
 "nbformat": 4,
 "nbformat_minor": 5
}
